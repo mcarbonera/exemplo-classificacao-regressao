{
 "cells": [
  {
   "cell_type": "markdown",
   "metadata": {},
   "source": [
    "### SVC"
   ]
  },
  {
   "cell_type": "code",
   "execution_count": null,
   "metadata": {},
   "outputs": [],
   "source": [
    "X_train_SVC, X_test_SVC, y_train_SVC, y_test_SVC, features = getTestTrainData(9/10)\n",
    "\n",
    "models['SVC'] = SVC(random_state = 0, probability=False, class_weight = 'balanced', cache_size=1200)\n",
    "\n",
    "# otimização de hiperparametros\n",
    "param_grid = [{\n",
    "  #'C': [0.1,1, 10, 100],\n",
    "  #'gamma': [1,0.1,0.01,0.001],\n",
    "  #'kernel': ['rbf', 'poly', 'sigmoid']\n",
    "\n",
    "  #'gamma': [1e-7,1e-6,1e-5,1e-4,1e-3,1e-2,1e-1,1e0,1e1],\n",
    "  #'C': [1e-3,1e-2,1e-1,1e0,1e1,1e2,1e3,1e4,1e5],\n",
    "\n",
    "  'gamma': [1e-1,1e0,1e1],\n",
    "  'C': [1e-1,1e0,1e1],\n",
    "  'kernel': ['linear']\n",
    "}]\n",
    "\n",
    "svc_gscv = RandomizedSearchCV(models['SVC'], param_grid, cv=5, scoring='accuracy', refit=False, n_jobs=-1)\n",
    "svc_gscv.fit(X_train_SVC, y_train_SVC)\n",
    "\n",
    "# resultado\n",
    "print(f\"Melhores Parametros: {svc_gscv.best_params_}\")\n",
    "\n",
    "# utilizando o melhores parametros\n",
    "models['SVC'].set_params(**svc_gscv.best_params_)\n",
    "models['SVC'].fit(X_train_SVC,y_train_SVC)"
   ]
  },
  {
   "cell_type": "code",
   "execution_count": null,
   "metadata": {},
   "outputs": [],
   "source": [
    "# ROC curve\n",
    "plot_roc_curve(models, X_test_SVC, y_test_SVC)"
   ]
  },
  {
   "cell_type": "code",
   "execution_count": null,
   "metadata": {},
   "outputs": [],
   "source": [
    "resultado_modelo = get_model_metrics(\n",
    "  model_name='SVC',\n",
    "  threshold=.8,\n",
    "  y_prob=models['SVC'].predict_proba(X_test_SVC)[:,1],\n",
    "  y_test=y_test)\n",
    "resultados = pd.concat([resultados, resultado_modelo])\n",
    "resultados"
   ]
  }
 ],
 "metadata": {
  "language_info": {
   "name": "python"
  }
 },
 "nbformat": 4,
 "nbformat_minor": 2
}
